{
 "cells": [
  {
   "cell_type": "markdown",
   "metadata": {},
   "source": [
    "## Federated Learning Scheduler\n",
    "\n",
    "The following considers scheduling of training in a federated learning environment. As processing power, upload speed, download speed, and data size varies greatly between different mobile devices, this is an important topic."
   ]
  },
  {
   "cell_type": "markdown",
   "metadata": {},
   "source": [
    "There are two problems we're trying to address here. The first is, given a bunch of models we can train, if we are resource constrained and can only train some, which should we train first? The second it given a model we've decided to train, how do we decide how many devices and/or which devices it should train on."
   ]
  },
  {
   "cell_type": "code",
   "execution_count": 1,
   "metadata": {},
   "outputs": [],
   "source": [
    "import numpy as np\n",
    "import matplotlib.pyplot as plt\n",
    "import pandas as pd\n",
    "from networkx.drawing.nx_agraph import graphviz_layout\n",
    "from networkx.drawing import nx_pydot\n",
    "from graphviz import Source\n",
    "import math\n",
    "from ortools.linear_solver import pywraplp\n",
    "from ortools.sat.python import cp_model\n",
    "import torchvision.models as models\n",
    "import torch\n",
    "from ptflops import get_model_complexity_info\n",
    "from torchsummary import summary\n",
    "from torchvision import models\n",
    "from pytorch_modelsize import SizeEstimator\n",
    "import torch.nn as nn\n",
    "from torch.autograd import Variable\n",
    "import numpy as np\n",
    "from scipy.sparse.csgraph import maximum_bipartite_matching\n",
    "from scipy.sparse import csr_matrix\n",
    "from ortools.sat.python import cp_model"
   ]
  },
  {
   "cell_type": "markdown",
   "metadata": {},
   "source": [
    "### Which models when?\n",
    "\n",
    "Given a bunch of models we can train in parallel, if we are resource constrained and can only train some, which should we train first?"
   ]
  },
  {
   "cell_type": "markdown",
   "metadata": {},
   "source": [
    "Our goal here is to maximize our profits for some profit per unit time equation $z$ that's a function of how much we sold a dataset for, $p$, and how long we anticipate it will take to train; $t$. In other words, we're seeking the selection models that maximize our total profit per unit time, $P/t$, while satisfying our resource constraints based on set $M$ models and $X$ devices. As the cost of training itself is negligable (as compute is essentially free since it's on mobile device), this makes more sense than maximizing gross profit\n",
    "\n",
    "More succinctly for some compute cost per unit time $c$ <br />\n",
    "$z = \\displaystyle\\sum_{i = 0}^{\\bar{M}}(\\frac{p_{i}}{t_{i}})m_{i}$ <br />\n",
    "For all $i \\in M$; $m_{i}$ is a decision variable set to 0 or 1 <br />\n",
    "With constraints: <br />\n",
    "$\\displaystyle\\sum_{i = 0}^{\\bar{M}}m_{i} \\leq \\bar{M}$ <br />\n",
    "$\\displaystyle\\sum_{i = 0}^{\\bar{M}}m_{i} \\leq \\bar{X}$ <br />\n",
    "$\\forall m_{i} \\in M, m_{i} \\in \\{0,1\\}$"
   ]
  },
  {
   "cell_type": "markdown",
   "metadata": {},
   "source": [
    "We'll assume $\\forall i  \\mid  0 \\leq i \\leq \\bar{M}$ $p_i$ and $t_i$ are known. This is a reasonable hypothesis, as on deployment, we will trivially know $p_i$ and we can estimate $t_i$ based on model type and number of parameters, which are trivially known. We'll also assume $\\bar{M}$ and $\\bar{X}$ are trivially known. So let's run through an example, and then generalize our solution into an algorithm"
   ]
  },
  {
   "cell_type": "code",
   "execution_count": 2,
   "metadata": {},
   "outputs": [],
   "source": [
    "solver = pywraplp.Solver.CreateSolver('SCIP')"
   ]
  },
  {
   "cell_type": "code",
   "execution_count": 4,
   "metadata": {},
   "outputs": [
    {
     "data": {
      "text/html": [
       "<div>\n",
       "<style scoped>\n",
       "    .dataframe tbody tr th:only-of-type {\n",
       "        vertical-align: middle;\n",
       "    }\n",
       "\n",
       "    .dataframe tbody tr th {\n",
       "        vertical-align: top;\n",
       "    }\n",
       "\n",
       "    .dataframe thead th {\n",
       "        text-align: right;\n",
       "    }\n",
       "</style>\n",
       "<table border=\"1\" class=\"dataframe\">\n",
       "  <thead>\n",
       "    <tr style=\"text-align: right;\">\n",
       "      <th></th>\n",
       "      <th>models</th>\n",
       "      <th>p</th>\n",
       "      <th>t</th>\n",
       "    </tr>\n",
       "  </thead>\n",
       "  <tbody>\n",
       "    <tr>\n",
       "      <th>0</th>\n",
       "      <td>m1</td>\n",
       "      <td>100</td>\n",
       "      <td>20</td>\n",
       "    </tr>\n",
       "    <tr>\n",
       "      <th>1</th>\n",
       "      <td>m2</td>\n",
       "      <td>300</td>\n",
       "      <td>50</td>\n",
       "    </tr>\n",
       "    <tr>\n",
       "      <th>2</th>\n",
       "      <td>m3</td>\n",
       "      <td>200</td>\n",
       "      <td>10</td>\n",
       "    </tr>\n",
       "    <tr>\n",
       "      <th>3</th>\n",
       "      <td>m4</td>\n",
       "      <td>30</td>\n",
       "      <td>60</td>\n",
       "    </tr>\n",
       "  </tbody>\n",
       "</table>\n",
       "</div>"
      ],
      "text/plain": [
       "  models    p   t\n",
       "0     m1  100  20\n",
       "1     m2  300  50\n",
       "2     m3  200  10\n",
       "3     m4   30  60"
      ]
     },
     "execution_count": 4,
     "metadata": {},
     "output_type": "execute_result"
    }
   ],
   "source": [
    "#load in CSV with info on models\n",
    "df = pd.read_csv('data/or_models_example.csv')\n",
    "df"
   ]
  },
  {
   "cell_type": "code",
   "execution_count": 5,
   "metadata": {},
   "outputs": [],
   "source": [
    "m1 = solver.IntVar(0.0, 1.0, 'm1')\n",
    "m2 = solver.IntVar(0.0, 1.0, 'm2')\n",
    "m3 = solver.IntVar(0.0, 1.0, 'm3')\n",
    "m4 = solver.IntVar(0.0, 1.0, 'm4')"
   ]
  },
  {
   "cell_type": "code",
   "execution_count": 6,
   "metadata": {},
   "outputs": [
    {
     "name": "stdout",
     "output_type": "stream",
     "text": [
      "Number of variables = 4\n"
     ]
    }
   ],
   "source": [
    "print('Number of variables =', solver.NumVariables())"
   ]
  },
  {
   "cell_type": "code",
   "execution_count": 7,
   "metadata": {},
   "outputs": [],
   "source": [
    "X = 3"
   ]
  },
  {
   "cell_type": "code",
   "execution_count": 8,
   "metadata": {},
   "outputs": [
    {
     "name": "stdout",
     "output_type": "stream",
     "text": [
      "Number of constraints = 2\n"
     ]
    }
   ],
   "source": [
    "#build our constraints and input into google OR\n",
    "solver.Add(m1 + m2 + m3 + m4 <= 4)\n",
    "solver.Add(m1 + m2 + m3 + m4 <= 3)\n",
    "print('Number of constraints =', solver.NumConstraints())"
   ]
  },
  {
   "cell_type": "code",
   "execution_count": 9,
   "metadata": {},
   "outputs": [],
   "source": [
    "#build our equation\n",
    "solver.Maximize(5*m1 + (300/50)*m2 + 20*m3 + (30/60)*m4)"
   ]
  },
  {
   "cell_type": "code",
   "execution_count": 10,
   "metadata": {},
   "outputs": [],
   "source": [
    "status = solver.Solve()"
   ]
  },
  {
   "cell_type": "code",
   "execution_count": 11,
   "metadata": {},
   "outputs": [
    {
     "name": "stdout",
     "output_type": "stream",
     "text": [
      "Solution:\n",
      "Objective value = 31.0\n",
      "m1 = 1.0\n",
      "m2 = 1.0\n",
      "m3 = 1.0\n",
      "m4 = 0.0\n"
     ]
    }
   ],
   "source": [
    "if status == pywraplp.Solver.OPTIMAL:\n",
    "    print('Solution:')\n",
    "    print('Objective value =', solver.Objective().Value())\n",
    "    print('m1 =', m1.solution_value())\n",
    "    print('m2 =', m2.solution_value())\n",
    "    print('m3 =', m3.solution_value())\n",
    "    print('m4 =', m4.solution_value())\n",
    "else:\n",
    "    print('The problem does not have an optimal solution.')"
   ]
  },
  {
   "cell_type": "markdown",
   "metadata": {},
   "source": [
    "This solution should makes sense. It should be trivial in fact, all we've done is ranked the models with the highest price to time ratio. Let's add a layer of complexity here though. Each model has characteristic batch size, which is the number of mobile devices the model can train on in parallel. This means we must change our second constraint based on a set of batch sizes $B$ for models in $M$  from: <br />\n",
    "$\\displaystyle\\sum_{i = 0}^{\\bar{M}}m_{i} \\leq \\bar{X}$  to <br />\n",
    "$\\displaystyle\\sum_{i = 0}^{\\bar{M}}b_i*m_{i} \\leq \\bar{X}$; where $b_i \\in B$ and is batch size for model $m_i$\n",
    "\n"
   ]
  },
  {
   "cell_type": "markdown",
   "metadata": {},
   "source": [
    "Let's run our example again but now including batch size and using our new constraint"
   ]
  },
  {
   "cell_type": "code",
   "execution_count": 12,
   "metadata": {},
   "outputs": [
    {
     "data": {
      "text/html": [
       "<div>\n",
       "<style scoped>\n",
       "    .dataframe tbody tr th:only-of-type {\n",
       "        vertical-align: middle;\n",
       "    }\n",
       "\n",
       "    .dataframe tbody tr th {\n",
       "        vertical-align: top;\n",
       "    }\n",
       "\n",
       "    .dataframe thead th {\n",
       "        text-align: right;\n",
       "    }\n",
       "</style>\n",
       "<table border=\"1\" class=\"dataframe\">\n",
       "  <thead>\n",
       "    <tr style=\"text-align: right;\">\n",
       "      <th></th>\n",
       "      <th>models</th>\n",
       "      <th>p</th>\n",
       "      <th>t</th>\n",
       "      <th>batch</th>\n",
       "    </tr>\n",
       "  </thead>\n",
       "  <tbody>\n",
       "    <tr>\n",
       "      <th>0</th>\n",
       "      <td>m1</td>\n",
       "      <td>100</td>\n",
       "      <td>20</td>\n",
       "      <td>4</td>\n",
       "    </tr>\n",
       "    <tr>\n",
       "      <th>1</th>\n",
       "      <td>m2</td>\n",
       "      <td>300</td>\n",
       "      <td>50</td>\n",
       "      <td>6</td>\n",
       "    </tr>\n",
       "    <tr>\n",
       "      <th>2</th>\n",
       "      <td>m3</td>\n",
       "      <td>200</td>\n",
       "      <td>10</td>\n",
       "      <td>10</td>\n",
       "    </tr>\n",
       "    <tr>\n",
       "      <th>3</th>\n",
       "      <td>m4</td>\n",
       "      <td>30</td>\n",
       "      <td>60</td>\n",
       "      <td>2</td>\n",
       "    </tr>\n",
       "  </tbody>\n",
       "</table>\n",
       "</div>"
      ],
      "text/plain": [
       "  models    p   t  batch\n",
       "0     m1  100  20      4\n",
       "1     m2  300  50      6\n",
       "2     m3  200  10     10\n",
       "3     m4   30  60      2"
      ]
     },
     "execution_count": 12,
     "metadata": {},
     "output_type": "execute_result"
    }
   ],
   "source": [
    "#load in CSV with info on models\n",
    "df = pd.read_csv('data/or_models_example_batch.csv')\n",
    "df"
   ]
  },
  {
   "cell_type": "code",
   "execution_count": 13,
   "metadata": {},
   "outputs": [
    {
     "name": "stdout",
     "output_type": "stream",
     "text": [
      "Number of variables = 4\n"
     ]
    }
   ],
   "source": [
    "solver = pywraplp.Solver.CreateSolver('SCIP')\n",
    "m1 = solver.IntVar(0.0, 1.0, 'm1')\n",
    "m2 = solver.IntVar(0.0, 1.0, 'm2')\n",
    "m3 = solver.IntVar(0.0, 1.0, 'm3')\n",
    "m4 = solver.IntVar(0.0, 1.0, 'm4')\n",
    "print('Number of variables =', solver.NumVariables())"
   ]
  },
  {
   "cell_type": "code",
   "execution_count": 14,
   "metadata": {},
   "outputs": [
    {
     "name": "stdout",
     "output_type": "stream",
     "text": [
      "Number of constraints = 2\n"
     ]
    }
   ],
   "source": [
    "#build our constraints and input into google OR\n",
    "solver.Add(m1 + m2 + m3 + m4 <= 4)\n",
    "solver.Add(4*m1 + 6*m2 + 10*m3 + 2*m4 <= 3)\n",
    "print('Number of constraints =', solver.NumConstraints())"
   ]
  },
  {
   "cell_type": "code",
   "execution_count": 15,
   "metadata": {},
   "outputs": [],
   "source": [
    "#build our equation\n",
    "solver.Maximize(5*m1 + (300/50)*m2 + 20*m3 + (30/60)*m4)\n",
    "status = solver.Solve()"
   ]
  },
  {
   "cell_type": "code",
   "execution_count": 16,
   "metadata": {},
   "outputs": [
    {
     "name": "stdout",
     "output_type": "stream",
     "text": [
      "Solution:\n",
      "Objective value = 0.5\n",
      "m1 = 0.0\n",
      "m2 = 0.0\n",
      "m3 = 0.0\n",
      "m4 = 1.0\n"
     ]
    }
   ],
   "source": [
    "if status == pywraplp.Solver.OPTIMAL:\n",
    "    print('Solution:')\n",
    "    print('Objective value =', solver.Objective().Value())\n",
    "    print('m1 =', m1.solution_value())\n",
    "    print('m2 =', m2.solution_value())\n",
    "    print('m3 =', m3.solution_value())\n",
    "    print('m4 =', m4.solution_value())\n",
    "else:\n",
    "    print('The problem does not have an optimal solution.')"
   ]
  },
  {
   "cell_type": "markdown",
   "metadata": {},
   "source": [
    "Each model requires a different number of cycles to train. Every cycle we need to make this decision. So, now that we've established a realistic objective function and constraints, let's turn this into an algorithm that can be used on deployment to queue up models each cycle."
   ]
  },
  {
   "cell_type": "code",
   "execution_count": 17,
   "metadata": {},
   "outputs": [
    {
     "data": {
      "text/html": [
       "<div>\n",
       "<style scoped>\n",
       "    .dataframe tbody tr th:only-of-type {\n",
       "        vertical-align: middle;\n",
       "    }\n",
       "\n",
       "    .dataframe tbody tr th {\n",
       "        vertical-align: top;\n",
       "    }\n",
       "\n",
       "    .dataframe thead th {\n",
       "        text-align: right;\n",
       "    }\n",
       "</style>\n",
       "<table border=\"1\" class=\"dataframe\">\n",
       "  <thead>\n",
       "    <tr style=\"text-align: right;\">\n",
       "      <th></th>\n",
       "      <th>models</th>\n",
       "      <th>p</th>\n",
       "      <th>t</th>\n",
       "      <th>batch</th>\n",
       "      <th>cycle</th>\n",
       "    </tr>\n",
       "  </thead>\n",
       "  <tbody>\n",
       "    <tr>\n",
       "      <th>0</th>\n",
       "      <td>m1</td>\n",
       "      <td>100</td>\n",
       "      <td>20</td>\n",
       "      <td>4</td>\n",
       "      <td>2</td>\n",
       "    </tr>\n",
       "    <tr>\n",
       "      <th>1</th>\n",
       "      <td>m2</td>\n",
       "      <td>300</td>\n",
       "      <td>50</td>\n",
       "      <td>6</td>\n",
       "      <td>3</td>\n",
       "    </tr>\n",
       "    <tr>\n",
       "      <th>2</th>\n",
       "      <td>m3</td>\n",
       "      <td>200</td>\n",
       "      <td>10</td>\n",
       "      <td>10</td>\n",
       "      <td>5</td>\n",
       "    </tr>\n",
       "    <tr>\n",
       "      <th>3</th>\n",
       "      <td>m4</td>\n",
       "      <td>30</td>\n",
       "      <td>60</td>\n",
       "      <td>2</td>\n",
       "      <td>4</td>\n",
       "    </tr>\n",
       "  </tbody>\n",
       "</table>\n",
       "</div>"
      ],
      "text/plain": [
       "  models    p   t  batch  cycle\n",
       "0     m1  100  20      4      2\n",
       "1     m2  300  50      6      3\n",
       "2     m3  200  10     10      5\n",
       "3     m4   30  60      2      4"
      ]
     },
     "execution_count": 17,
     "metadata": {},
     "output_type": "execute_result"
    }
   ],
   "source": [
    "#load in CSV with cycle and batch info\n",
    "df = pd.read_csv('data/or_models_example_cycle.csv')\n",
    "df"
   ]
  },
  {
   "cell_type": "code",
   "execution_count": 62,
   "metadata": {},
   "outputs": [],
   "source": [
    "#this will perform our optimization given the dataframe above\n",
    "def find_next(df, m_bar, x_bar):\n",
    "    eq = 0\n",
    "    co1 = 0\n",
    "    co2 = 0\n",
    "    solver = pywraplp.Solver.CreateSolver('SCIP')\n",
    "    #instantiate binary decision variables for each model\n",
    "    i = 0\n",
    "    model_solve = []\n",
    "    solution = {}\n",
    "    # for each model\n",
    "    for model in df['models']:\n",
    "        model = solver.IntVar(0.0, 1.0, model)\n",
    "        model_solve.append(model)\n",
    "        #grab price, time, and batch_size from the data frame\n",
    "        p = df.loc[i,'p']\n",
    "        t = df.loc[i,'t']\n",
    "        b = df.loc[i,'batch']\n",
    "        #construct objective function summed over each model\n",
    "        eq = eq + (p/t) * model\n",
    "        #construct both constraints\n",
    "        co1 = co1 + model\n",
    "        co2 = co2 + b*model\n",
    "        i = i + 1\n",
    "    #build our constraints and input into google OR\n",
    "    solver.Add(co1 <= m_bar)\n",
    "    solver.Add(co2 <= x_bar)\n",
    "    solver.Maximize(eq)\n",
    "    status = solver.Solve()\n",
    "    i = 0\n",
    "    #put solutions and max objective value into dictionary, return\n",
    "    for mod in model_solve:\n",
    "        solution[df['models'][i]] = mod.solution_value()\n",
    "        i = i + 1\n",
    "    solution['Z'] = solver.Objective().Value()\n",
    "    return solution"
   ]
  },
  {
   "cell_type": "code",
   "execution_count": 63,
   "metadata": {},
   "outputs": [
    {
     "data": {
      "text/plain": [
       "{'m1': -0.0, 'm2': -0.0, 'm3': 1.0, 'm4': -0.0, 'Z': 20.0}"
      ]
     },
     "execution_count": 63,
     "metadata": {},
     "output_type": "execute_result"
    }
   ],
   "source": [
    "#heres an example call for one cycle\n",
    "find_next(df, 4, 10)"
   ]
  },
  {
   "cell_type": "code",
   "execution_count": 20,
   "metadata": {},
   "outputs": [],
   "source": [
    "solutions = []\n",
    "def queue_cycle(df, m_bar, x_bar):\n",
    "    #find next models for this cycle\n",
    "    print(df)\n",
    "    solution = find_next(df, m_bar, x_bar)\n",
    "    solutions.append(solution)\n",
    "    #clean up dataframe by decrementing num cycles\n",
    "    i = 0\n",
    "    for model in solution.keys():\n",
    "        if(solution[model] == 1):\n",
    "            df.loc[i, 'cycle'] = df.loc[i, 'cycle'] - 1\n",
    "        i = i + 1\n",
    "    #if any model has 0 num cycles remaining, remove\n",
    "    df = df[df['cycle'] > 0]\n",
    "    df = df.reset_index(drop=True)\n",
    "    m_bar = df.shape[0]\n",
    "    #exit condition\n",
    "    if df.empty:\n",
    "        return\n",
    "    else:\n",
    "        #recurse\n",
    "        queue_cycle(df, m_bar, x_bar)"
   ]
  },
  {
   "cell_type": "code",
   "execution_count": 21,
   "metadata": {},
   "outputs": [
    {
     "name": "stdout",
     "output_type": "stream",
     "text": [
      "  models    p   t  batch  cycle\n",
      "0     m1  100  20      4      2\n",
      "1     m2  300  50      6      3\n",
      "2     m3  200  10     10      5\n",
      "3     m4   30  60      2      4\n",
      "  models    p   t  batch  cycle\n",
      "0     m1  100  20      4      2\n",
      "1     m2  300  50      6      3\n",
      "2     m3  200  10     10      4\n",
      "3     m4   30  60      2      4\n",
      "  models    p   t  batch  cycle\n",
      "0     m1  100  20      4      2\n",
      "1     m2  300  50      6      3\n",
      "2     m3  200  10     10      3\n",
      "3     m4   30  60      2      4\n",
      "  models    p   t  batch  cycle\n",
      "0     m1  100  20      4      2\n",
      "1     m2  300  50      6      3\n",
      "2     m3  200  10     10      2\n",
      "3     m4   30  60      2      4\n",
      "  models    p   t  batch  cycle\n",
      "0     m1  100  20      4      2\n",
      "1     m2  300  50      6      3\n",
      "2     m3  200  10     10      1\n",
      "3     m4   30  60      2      4\n",
      "  models    p   t  batch  cycle\n",
      "0     m1  100  20      4      2\n",
      "1     m2  300  50      6      3\n",
      "2     m4   30  60      2      4\n",
      "  models    p   t  batch  cycle\n",
      "0     m1  100  20      4      1\n",
      "1     m2  300  50      6      2\n",
      "2     m4   30  60      2      4\n",
      "  models    p   t  batch  cycle\n",
      "0     m2  300  50      6      1\n",
      "1     m4   30  60      2      4\n",
      "  models   p   t  batch  cycle\n",
      "0     m4  30  60      2      3\n",
      "  models   p   t  batch  cycle\n",
      "0     m4  30  60      2      2\n",
      "  models   p   t  batch  cycle\n",
      "0     m4  30  60      2      1\n"
     ]
    }
   ],
   "source": [
    "# lets try this out with the same sample dataset\n",
    "queue_cycle(df, 4, 10)"
   ]
  },
  {
   "cell_type": "code",
   "execution_count": 22,
   "metadata": {},
   "outputs": [
    {
     "data": {
      "text/plain": [
       "[{'m1': -0.0, 'm2': -0.0, 'm3': 1.0, 'm4': -0.0, 'Z': 20.0},\n",
       " {'m1': -0.0, 'm2': -0.0, 'm3': 1.0, 'm4': -0.0, 'Z': 20.0},\n",
       " {'m1': -0.0, 'm2': -0.0, 'm3': 1.0, 'm4': -0.0, 'Z': 20.0},\n",
       " {'m1': -0.0, 'm2': -0.0, 'm3': 1.0, 'm4': -0.0, 'Z': 20.0},\n",
       " {'m1': -0.0, 'm2': -0.0, 'm3': 1.0, 'm4': -0.0, 'Z': 20.0},\n",
       " {'m1': 1.0, 'm2': 1.0, 'm4': 0.0, 'Z': 11.0},\n",
       " {'m1': 1.0, 'm2': 1.0, 'm4': 0.0, 'Z': 11.0},\n",
       " {'m2': 1.0, 'm4': 1.0, 'Z': 6.5},\n",
       " {'m4': 1.0, 'Z': 0.5},\n",
       " {'m4': 1.0, 'Z': 0.5},\n",
       " {'m4': 1.0, 'Z': 0.5}]"
      ]
     },
     "execution_count": 22,
     "metadata": {},
     "output_type": "execute_result"
    }
   ],
   "source": [
    "solutions"
   ]
  },
  {
   "cell_type": "markdown",
   "metadata": {},
   "source": [
    "### Train Where?\n",
    "\n",
    "On to our next problem. Now that we know what models to train, how can we decide where to train them?"
   ]
  },
  {
   "cell_type": "markdown",
   "metadata": {},
   "source": [
    "###### We know in each cycle, a set of $n \\in N$ mobile devices run $r \\in R$ distributed training tasks. We also know the cost of training is time as variable compute is essentially free (happens on mobile device) and that time has three components: <br />\n",
    "Computation time, upload time, and download time. <br />\n",
    "Computation time: $T_{n}^{c}(D_r)$; where $D_r$ is the local data for mobile device <br />\n",
    "Upload time: $T_{n}^{u}(M)$; where $M$ is the model being trained <br />\n",
    "Download time: $T_{n}^{d}(M)$; where $M$ is the model being trained <br />\n",
    "\n",
    "Lets define our objective function: <br />\n",
    "\n",
    "$\\displaystyle\\min_{Y \\in \\alpha} \\max_{n \\in N} (T_{n}^{c}(D_r)+ T_{n}^{u}(M) + T_{n}^{d}(M))y_{nr}$ <br />\n",
    "\n",
    "where $y_{nr} \\in Y$, the assignment matrix, and $\\alpha$ is the set of all permutations of the assignment matrix. <br />\n",
    "\n",
    "Now let's define our constraints. 1. The sum of all local data on mobile devices should equal D. 2. Each task is only assigned to one user. 3. Each user is only assigned to one task. <br />\n",
    "\n",
    "$\\displaystyle\\sum_{r \\in R} D_r = D$ <br />\n",
    "$\\displaystyle\\sum_{n \\in N} y_{nr} = 1, r \\in R$ <br />\n",
    "$\\displaystyle\\sum_{r \\in R} y_{nr} = 1, n \\in N$ <br />\n",
    "\n",
    "\n"
   ]
  },
  {
   "cell_type": "markdown",
   "metadata": {},
   "source": [
    "The naive solution here would be to divide up D into all possible combinations, and treat this as a linear bottleneck assignment problem. Let's take a stab at the naive optimization bellow."
   ]
  },
  {
   "cell_type": "markdown",
   "metadata": {},
   "source": [
    "If we take our data across devices to be IID (independant and identically distributed), we can treat federated scheduling as a variation of the linear bottleneck assignment problem. Notably, there are a number of agents (mobile devices) and tasks (models to train). Any agent can perform any task for some cost that varies based on agent/task assignment. We want to minimize the maximum cost of all agent/task assignments."
   ]
  },
  {
   "cell_type": "code",
   "execution_count": 2,
   "metadata": {},
   "outputs": [
    {
     "name": "stderr",
     "output_type": "stream",
     "text": [
      "/tf/notebooks/Jake/operations_research_project/pytorch_modelsize.py:34: UserWarning: volatile was removed and now has no effect. Use `with torch.no_grad():` instead.\n",
      "  input_ = Variable(torch.FloatTensor(*self.input_size), volatile=True)\n"
     ]
    },
    {
     "data": {
      "text/plain": [
       "408.283935546875"
      ]
     },
     "execution_count": 2,
     "metadata": {},
     "output_type": "execute_result"
    }
   ],
   "source": [
    "class Model(nn.Module):\n",
    "\n",
    "    def __init__(self):\n",
    "        super(Model,self).__init__()\n",
    "\n",
    "        self.conv0 = nn.Conv2d(1, 16, kernel_size=3, padding=5)\n",
    "        self.conv1 = nn.Conv2d(16, 32, kernel_size=3)\n",
    "\n",
    "    def forward(self, x):\n",
    "        h = self.conv0(x)\n",
    "        h = self.conv1(h)\n",
    "        return h\n",
    "\n",
    "model = Model()\n",
    "\n",
    "se = SizeEstimator(model, input_size=(16,1,256,256))\n",
    "se.estimate_size()[0]"
   ]
  },
  {
   "cell_type": "code",
   "execution_count": 3,
   "metadata": {},
   "outputs": [],
   "source": [
    "# function to find all of our permutations\n",
    "def findpermutations(n,k):    \n",
    "    if k < 0 or n < 0: return \"Error\"\n",
    "    if not k: return [[0]*n]\n",
    "    if not n: return []\n",
    "    if n == 1: return [[k]]\n",
    "    return [[0]+val for val in findpermutations(n-1,k)] + \\\n",
    "        [[val[0]+1]+val[1:] for val in findpermutations(n,k-1)]"
   ]
  },
  {
   "cell_type": "code",
   "execution_count": 4,
   "metadata": {},
   "outputs": [
    {
     "data": {
      "text/html": [
       "<div>\n",
       "<style scoped>\n",
       "    .dataframe tbody tr th:only-of-type {\n",
       "        vertical-align: middle;\n",
       "    }\n",
       "\n",
       "    .dataframe tbody tr th {\n",
       "        vertical-align: top;\n",
       "    }\n",
       "\n",
       "    .dataframe thead th {\n",
       "        text-align: right;\n",
       "    }\n",
       "</style>\n",
       "<table border=\"1\" class=\"dataframe\">\n",
       "  <thead>\n",
       "    <tr style=\"text-align: right;\">\n",
       "      <th></th>\n",
       "      <th>models</th>\n",
       "      <th>p</th>\n",
       "      <th>t</th>\n",
       "      <th>batch</th>\n",
       "      <th>cycle</th>\n",
       "    </tr>\n",
       "  </thead>\n",
       "  <tbody>\n",
       "    <tr>\n",
       "      <th>0</th>\n",
       "      <td>m1</td>\n",
       "      <td>100</td>\n",
       "      <td>20</td>\n",
       "      <td>4</td>\n",
       "      <td>2</td>\n",
       "    </tr>\n",
       "    <tr>\n",
       "      <th>1</th>\n",
       "      <td>m2</td>\n",
       "      <td>300</td>\n",
       "      <td>50</td>\n",
       "      <td>6</td>\n",
       "      <td>3</td>\n",
       "    </tr>\n",
       "    <tr>\n",
       "      <th>2</th>\n",
       "      <td>m3</td>\n",
       "      <td>200</td>\n",
       "      <td>10</td>\n",
       "      <td>10</td>\n",
       "      <td>5</td>\n",
       "    </tr>\n",
       "    <tr>\n",
       "      <th>3</th>\n",
       "      <td>m4</td>\n",
       "      <td>30</td>\n",
       "      <td>60</td>\n",
       "      <td>2</td>\n",
       "      <td>4</td>\n",
       "    </tr>\n",
       "  </tbody>\n",
       "</table>\n",
       "</div>"
      ],
      "text/plain": [
       "  models    p   t  batch  cycle\n",
       "0     m1  100  20      4      2\n",
       "1     m2  300  50      6      3\n",
       "2     m3  200  10     10      5\n",
       "3     m4   30  60      2      4"
      ]
     },
     "execution_count": 4,
     "metadata": {},
     "output_type": "execute_result"
    }
   ],
   "source": [
    "df = pd.read_csv('data/or_models_example_cycle.csv')\n",
    "df"
   ]
  },
  {
   "cell_type": "code",
   "execution_count": 5,
   "metadata": {},
   "outputs": [],
   "source": [
    "def LBAP(cost_matrix):\n",
    "    i = 0\n",
    "    eq = 0\n",
    "    label_solve = []\n",
    "    con2 = 0\n",
    "    obj = 0\n",
    "    solution = {}\n",
    "    time = {}\n",
    "    mod_con = []\n",
    "    #declare google OR model\n",
    "    model = cp_model.CpModel()\n",
    "    #for each device\n",
    "    for dev in cost_matrix:\n",
    "        label = []\n",
    "        y = 0\n",
    "        con = 0\n",
    "        # for each model cost for a given device\n",
    "        for mod in dev:\n",
    "            label = 'dev' + str(i) + 'm' + str(y)\n",
    "            time[label] = mod\n",
    "            label = model.NewBoolVar(label)\n",
    "            label_solve.append(label)\n",
    "            #construct objective function\n",
    "            eq = eq + int(mod) * label\n",
    "            #construct constraints\n",
    "            con = con + label\n",
    "            con2 = con2 + label\n",
    "            if i == 0: \n",
    "                mod_con.append(label)\n",
    "            #construct constraints (each model must be trained)\n",
    "            else:\n",
    "                mod_con[y] = mod_con[y] + label\n",
    "            y = y + 1\n",
    "        model.Add(con <= 1)\n",
    "        i = i + 1\n",
    "    model.Add(con2 == y)\n",
    "    for cons in mod_con:\n",
    "        model.Add(cons == 1)\n",
    "    model.Minimize(eq)\n",
    "    solver = cp_model.CpSolver()\n",
    "    status = solver.Solve(model)\n",
    "    if status == cp_model.OPTIMAL:\n",
    "        maxi = 0\n",
    "        for label in label_solve:\n",
    "            solution[label] = solver.Value(label)\n",
    "            if (solver.Value(label) == 1):\n",
    "                value = time[str(label)]\n",
    "                if value > maxi:\n",
    "                    maxi = value\n",
    "        obj = obj + solver.ObjectiveValue()\n",
    "        solution['Z'] = obj\n",
    "        solution['max'] = maxi\n",
    "    return solution"
   ]
  },
  {
   "cell_type": "code",
   "execution_count": 13,
   "metadata": {},
   "outputs": [],
   "source": [
    "def assign_models(D, N_speed, models, df, input_shapes):\n",
    "    # generate all possible permutations of D over R distributed\n",
    "    # training tasks\n",
    "    perms = findpermutations(len(N_speed), D)\n",
    "    min_max = 1000000000\n",
    "    # for each potential permutation\n",
    "    print(len(perms))\n",
    "    for perm in perms:\n",
    "        cost_matrix = []\n",
    "        y = 0\n",
    "        for speed in N_speed:\n",
    "            cost_model = []\n",
    "            i = 0\n",
    "            for model in models:\n",
    "                #generate our costs for user n\n",
    "                se = SizeEstimator(model, input_size=input_shapes[i])\n",
    "                #estimated size of trained model in mb\n",
    "                size = se.estimate_size()[0]\n",
    "                #calculate upload and download speed\n",
    "                #mb/s * 1/#mb = 1/seconds\n",
    "                download = 1/(speed[0]*(1/size))\n",
    "                upload = 1/(speed[1]*(1/size))\n",
    "                computation = df.loc[i, 't']/(df.loc[i, 'batch']*df.loc[i, 'cycle'])\n",
    "                adj = (perm[y])/D\n",
    "                cost = upload + download + ((computation)*adj)\n",
    "                #make row for this mobile device for all models\n",
    "                cost_model.append(cost)\n",
    "                i = i + 1\n",
    "            #append mobile device row to cost matrix\n",
    "            cost_matrix.append(cost_model)\n",
    "            y = y + 1\n",
    "        # perform LBAP for each data partition permutation\n",
    "        solution = LBAP(cost_matrix)\n",
    "        #keep track of minimum maximum\n",
    "        if solution['max'] < min_max:\n",
    "            min_max = solution['max']\n",
    "            final_solution = solution\n",
    "    return final_solution"
   ]
  },
  {
   "cell_type": "code",
   "execution_count": 14,
   "metadata": {},
   "outputs": [
    {
     "name": "stdout",
     "output_type": "stream",
     "text": [
      "105\n"
     ]
    }
   ],
   "source": [
    "#run an example\n",
    "sol = assign_models(D=13, N_speed=[(10,5), (4,6), (3,2)], models=[model,model], df=df,input_shapes=[(16,1,256,256), (16,1,256,256)])"
   ]
  },
  {
   "cell_type": "code",
   "execution_count": 15,
   "metadata": {},
   "outputs": [
    {
     "data": {
      "text/plain": [
       "{dev0m0(0..1): 1,\n",
       " dev0m1(0..1): 0,\n",
       " dev1m0(0..1): 0,\n",
       " dev1m1(0..1): 1,\n",
       " dev2m0(0..1): 0,\n",
       " dev2m1(0..1): 0,\n",
       " 'Z': 292.0,\n",
       " 'max': 170.11830647786456}"
      ]
     },
     "execution_count": 15,
     "metadata": {},
     "output_type": "execute_result"
    }
   ],
   "source": [
    "sol"
   ]
  }
 ],
 "metadata": {
  "kernelspec": {
   "display_name": "Python 3",
   "language": "python",
   "name": "python3"
  },
  "language_info": {
   "codemirror_mode": {
    "name": "ipython",
    "version": 3
   },
   "file_extension": ".py",
   "mimetype": "text/x-python",
   "name": "python",
   "nbconvert_exporter": "python",
   "pygments_lexer": "ipython3",
   "version": "3.8.5"
  }
 },
 "nbformat": 4,
 "nbformat_minor": 4
}
