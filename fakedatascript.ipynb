{
 "metadata": {
  "language_info": {
   "codemirror_mode": {
    "name": "ipython",
    "version": 3
   },
   "file_extension": ".py",
   "mimetype": "text/x-python",
   "name": "python",
   "nbconvert_exporter": "python",
   "pygments_lexer": "ipython3",
   "version": "3.8.3-final"
  },
  "orig_nbformat": 2,
  "kernelspec": {
   "name": "python3",
   "display_name": "Python 3"
  }
 },
 "nbformat": 4,
 "nbformat_minor": 2,
 "cells": [
  {
   "cell_type": "code",
   "execution_count": 1,
   "metadata": {},
   "outputs": [
    {
     "output_type": "execute_result",
     "data": {
      "text/plain": [
       "[['age', 'sex', 'net worth', 'heartrate'],\n",
       " [16, 0, 23605, 119],\n",
       " [20, 0, 83443, 115],\n",
       " [31, 1, 74254, 120],\n",
       " [14, 1, 39215, 81],\n",
       " [20, 0, 41664, 53]]"
      ]
     },
     "metadata": {},
     "execution_count": 1
    }
   ],
   "source": [
    "import random\n",
    "# inputs: columns, discrete/continuous, ranges for each column, number of rows\n",
    "def fakedata(columns, range, num_rows):\n",
    "    \n",
    "    # input validation\n",
    "    if not (len(columns) == len(range)):\n",
    "        return (\"incorrect lengths of columns in one of the first three inputs\")\n",
    "    elif (num_rows <= 0):\n",
    "        return (\"incorrect number of rows\")\n",
    "    \n",
    "    output_data = [columns]\n",
    "\n",
    "    col_iterator = 0\n",
    "    row_of_data = 1 # topline is the headers\n",
    "    # write an array where each item is a row of fake data\n",
    "    while row_of_data <= num_rows:\n",
    "        output_data.append([])\n",
    "        while col_iterator < len(columns):\n",
    "            output_data[row_of_data].append(random.randint(range[col_iterator][0], range[col_iterator][1]))\n",
    "            col_iterator += 1\n",
    "        \n",
    "        col_iterator = 0\n",
    "        row_of_data += 1\n",
    "        \n",
    "    return output_data\n",
    "\n",
    "\n",
    "fakedata(['age', 'sex', 'net worth', 'heartrate'], [[0, 55], [0, 1], [0, 100000], [40, 120]], 5)"
   ]
  },
  {
   "cell_type": "code",
   "execution_count": 2,
   "metadata": {},
   "outputs": [],
   "source": [
    "import csv\n",
    "def convert_to_csv(columns, range, num_rows, file_name):\n",
    "    output = fakedata(columns, range, num_rows)\n",
    "\n",
    "    with open(file_name, 'w', newline='') as csvfile:\n",
    "        spamwriter = csv.writer(csvfile, delimiter=',',\n",
    "                            quotechar='|', quoting=csv.QUOTE_MINIMAL)\n",
    "        \n",
    "        x = 0\n",
    "        while x < len(output):\n",
    "            spamwriter.writerow(output[x])\n",
    "            x += 1\n",
    "        \n",
    "\n",
    "convert_to_csv(['age', 'sex', 'net worth', 'heartrate'], [[0, 55], [0, 1], [0, 100000], [40, 120]], 5, 'testdata1.csv')"
   ]
  },
  {
   "cell_type": "code",
   "execution_count": null,
   "metadata": {},
   "outputs": [],
   "source": []
  }
 ]
}