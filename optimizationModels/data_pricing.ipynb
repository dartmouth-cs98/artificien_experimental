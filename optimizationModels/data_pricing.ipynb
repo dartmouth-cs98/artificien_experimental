{
 "cells": [
  {
   "cell_type": "markdown",
   "metadata": {},
   "source": [
    "## Data Pricing"
   ]
  },
  {
   "cell_type": "markdown",
   "metadata": {},
   "source": [
    "Data is value differently based on it's usecase. A hedgefund may want to use data to generate alpha, meaning they'll pay a higher sum for exclusive use. By contrast, a medical researcher likely doesn't care if the data they purchase access to is being used by others, but their willingness to pay is likely lower than that of the hedgefund. This notebook aims to explore pricing options and their consequences"
   ]
  },
  {
   "cell_type": "code",
   "execution_count": 127,
   "metadata": {},
   "outputs": [],
   "source": [
    "import numpy as np\n",
    "import matplotlib.pyplot as plt\n",
    "import pandas as pd\n",
    "from ortools.sat.python import cp_model\n",
    "from ortools.linear_solver import pywraplp\n",
    "from ast import literal_eval as make_tuple"
   ]
  },
  {
   "cell_type": "markdown",
   "metadata": {},
   "source": [
    "#### Maximizing Profit"
   ]
  },
  {
   "cell_type": "markdown",
   "metadata": {},
   "source": [
    "Our goal is simple - we as a firm want to maximize our profit $z$. We can sell each dataset $d \\in D$ to one or multiple customers. The price they'll pay is defined by their willingness to pay $w_{di}$ for each $0 \\leq i \\leq \\bar{N}$, when $N$ is the set of existing customers. But for some customers - we'll call them data hoarders (DHs) - selling to multiple people means they won't buy. We'll assume for the purposes of this project we have a good estimate of every $ith$ customer willingness to pay for dataset $d$ - $w_{di}$ - and if they're ok with multiple parties having access to a dataset $(0)$, or not $(1)$; represented by $x_{di}$. Our decision variable then becomes $m_{di}$ - if we should offer the dataset to single parties $(0)$ or multiple parties $(1)$. Thus the truth table relationship follows bellow."
   ]
  },
  {
   "cell_type": "markdown",
   "metadata": {},
   "source": [
    "| $m_{d}$ | $x_{di}$ | outcome |\n",
    "|----------|----------|---------|\n",
    "| 0        | 1        | 1       |\n",
    "| 1        | 1        | 0       |\n",
    "| 0        | 0        | 1       |\n",
    "| 1        | 0        | 1       |"
   ]
  },
  {
   "cell_type": "markdown",
   "metadata": {},
   "source": [
    "We also know selling to a single party means we can only give access to one person. Thus if $m_{di} = 0$, then the profit for dataset $d \\in D$ is the maximum willingness to pay for that dataset. $\\forall i | 0 \\leq i \\leq \\bar{N}; z_d = max(w_{di})$."
   ]
  },
  {
   "cell_type": "markdown",
   "metadata": {},
   "source": [
    "$z = \\displaystyle\\sum_{d \\in D}\\displaystyle\\sum_{i = 0}^{\\bar{N}}((w_{di})-(w_{di}*m_{d}*x_{di}) - (w_{di}*not(m_{d})) + max(w_d)*not(m_{d}))$ <br />"
   ]
  },
  {
   "cell_type": "markdown",
   "metadata": {},
   "source": [
    "Every dataset must have 0 or more purchasers: <br />\n",
    "$\\displaystyle\\sum_{i = 0}^{\\bar{N}}x_{di} \\geq 0$ <br />\n",
    "$m_{di}$ is a binary decision variable <br />\n",
    "$ \\forall m_{di} | d \\in D, 0 \\leq i \\leq \\bar{N}; m_{di} \\in \\{0,1\\}$ <br />"
   ]
  },
  {
   "cell_type": "markdown",
   "metadata": {},
   "source": [
    "Let's run through an example:"
   ]
  },
  {
   "cell_type": "code",
   "execution_count": 238,
   "metadata": {},
   "outputs": [
    {
     "data": {
      "text/html": [
       "<div>\n",
       "<style scoped>\n",
       "    .dataframe tbody tr th:only-of-type {\n",
       "        vertical-align: middle;\n",
       "    }\n",
       "\n",
       "    .dataframe tbody tr th {\n",
       "        vertical-align: top;\n",
       "    }\n",
       "\n",
       "    .dataframe thead th {\n",
       "        text-align: right;\n",
       "    }\n",
       "</style>\n",
       "<table border=\"1\" class=\"dataframe\">\n",
       "  <thead>\n",
       "    <tr style=\"text-align: right;\">\n",
       "      <th></th>\n",
       "      <th>dataset</th>\n",
       "      <th>u1</th>\n",
       "      <th>u2</th>\n",
       "      <th>u3</th>\n",
       "      <th>u4</th>\n",
       "      <th>u5</th>\n",
       "    </tr>\n",
       "  </thead>\n",
       "  <tbody>\n",
       "    <tr>\n",
       "      <th>0</th>\n",
       "      <td>d1</td>\n",
       "      <td>(50,1)</td>\n",
       "      <td>(20,0)</td>\n",
       "      <td>(15,0)</td>\n",
       "      <td>(30,1)</td>\n",
       "      <td>(70,1)</td>\n",
       "    </tr>\n",
       "    <tr>\n",
       "      <th>1</th>\n",
       "      <td>d2</td>\n",
       "      <td>(40,0)</td>\n",
       "      <td>(40,0)</td>\n",
       "      <td>(50,1)</td>\n",
       "      <td>(30,0)</td>\n",
       "      <td>(50,1)</td>\n",
       "    </tr>\n",
       "  </tbody>\n",
       "</table>\n",
       "</div>"
      ],
      "text/plain": [
       "  dataset      u1      u2      u3      u4      u5\n",
       "0      d1  (50,1)  (20,0)  (15,0)  (30,1)  (70,1)\n",
       "1      d2  (40,0)  (40,0)  (50,1)  (30,0)  (50,1)"
      ]
     },
     "execution_count": 238,
     "metadata": {},
     "output_type": "execute_result"
    }
   ],
   "source": [
    "#load in CSV with cycle and batch info\n",
    "df = pd.read_csv('data/user_profit_matrix.csv')\n",
    "df"
   ]
  },
  {
   "cell_type": "code",
   "execution_count": 239,
   "metadata": {},
   "outputs": [],
   "source": [
    "def find_max(users):\n",
    "    maxi = 0\n",
    "    print(users)\n",
    "    for column in df.columns:\n",
    "        if column != 'dataset':\n",
    "            wtp = make_tuple(users[column][0])[0]\n",
    "            if (wtp > maxi):\n",
    "                maxi = wtp\n",
    "    return maxi"
   ]
  },
  {
   "cell_type": "code",
   "execution_count": 249,
   "metadata": {},
   "outputs": [
    {
     "name": "stdout",
     "output_type": "stream",
     "text": [
      "  dataset      u1      u2      u3      u4      u5\n",
      "0      d1  (50,1)  (20,0)  (15,0)  (30,1)  (70,1)\n",
      "m0\n",
      "((((((((((((((((-50 * m0) + 50) + (-50 * not(m0))) + 20)) + (-20 * not(m0))) + 15)) + (-15 * not(m0))) + 30) + (-30 * m0)) + (-30 * not(m0))) + 70) + (-70 * m0)) + (-70 * not(m0))) + (70 * not(m0)))\n",
      "m0\n",
      "  dataset      u1      u2      u3      u4      u5\n",
      "0      d2  (40,0)  (40,0)  (50,1)  (30,0)  (50,1)\n",
      "m1\n",
      "(((((((((((((((-40 * not(m1)) + 40) + 40)) + (-40 * not(m1))) + 50) + (-50 * m1)) + (-50 * not(m1))) + 30)) + (-30 * not(m1))) + 50) + (-50 * m1)) + (-50 * not(m1))) + (50 * not(m1)))\n",
      "m1\n"
     ]
    }
   ],
   "source": [
    "y = 0\n",
    "solution = {}\n",
    "obj = 0\n",
    "#for every dataset available\n",
    "for dataset in df['dataset']:\n",
    "    label_solve = []\n",
    "\n",
    "    #find the users interested in said dataset\n",
    "    users = df.loc[df['dataset'] == dataset]\n",
    "    users = users.reset_index(drop=True)\n",
    "    \n",
    "    #declare google OR model\n",
    "    model = cp_model.CpModel()\n",
    "    \n",
    "    #instantiate binary decision variables for each dataset, keep track of these variable to retrieve solutions\n",
    "    maxi = find_max(users)\n",
    "    label = 'm'+str(y)\n",
    "    print(label)\n",
    "    label = model.NewBoolVar(label)\n",
    "    label_solve.append(label)\n",
    "    eq = 0\n",
    "\n",
    "    #for every user interested in the current dataset d\n",
    "    for column in df.columns:\n",
    "        #ignore the first column of df, grab willingness to pay, and x_di\n",
    "        if column != 'dataset':\n",
    "            weight = make_tuple(users[column][0])\n",
    "            wtp = weight[0]\n",
    "            x = weight[1]\n",
    "            # add to objective fx\n",
    "            eq = eq + wtp  - wtp * label * x - wtp * label.Not()\n",
    "    # add to objective fx for every dataset\n",
    "    eq = eq + maxi * label.Not()\n",
    "    y = y + 1\n",
    "    print(eq)\n",
    "    #use google OR to maximize, store solutions in solution dictionary\n",
    "    model.Maximize(eq)\n",
    "    solver = cp_model.CpSolver()\n",
    "    status = solver.Solve(model)\n",
    "    if status == cp_model.OPTIMAL:\n",
    "        for label in label_solve:\n",
    "            print(label)\n",
    "            solution[label] = solver.Value(label)\n",
    "        obj = obj + solver.ObjectiveValue()\n",
    "        solution['Z' + str(y)] = solver.ObjectiveValue()\n",
    "solution['Z'] = obj"
   ]
  },
  {
   "cell_type": "code",
   "execution_count": 250,
   "metadata": {},
   "outputs": [
    {
     "data": {
      "text/plain": [
       "{m0(0..1): 0, 'Z1': 70.0, m1(0..1): 1, 'Z2': 110.0, 'Z': 180.0}"
      ]
     },
     "execution_count": 250,
     "metadata": {},
     "output_type": "execute_result"
    }
   ],
   "source": [
    "solution"
   ]
  },
  {
   "cell_type": "markdown",
   "metadata": {},
   "source": [
    "#### Real Life Implementation"
   ]
  },
  {
   "cell_type": "markdown",
   "metadata": {},
   "source": [
    "One possibility is this can be implemented via a variation of the dutch auction. We start the auction at some arbitrarily high price and lower it every set time interval or on a bid. At every bid, we ask the bidder if they're willing to share with one or multiple users. At the end of the auction, we use the above optimizer to decide if the dataset should be sold singularly or to multiple users."
   ]
  }
 ],
 "metadata": {
  "kernelspec": {
   "display_name": "Python 3",
   "language": "python",
   "name": "python3"
  },
  "language_info": {
   "codemirror_mode": {
    "name": "ipython",
    "version": 3
   },
   "file_extension": ".py",
   "mimetype": "text/x-python",
   "name": "python",
   "nbconvert_exporter": "python",
   "pygments_lexer": "ipython3",
   "version": "3.8.5"
  }
 },
 "nbformat": 4,
 "nbformat_minor": 4
}
