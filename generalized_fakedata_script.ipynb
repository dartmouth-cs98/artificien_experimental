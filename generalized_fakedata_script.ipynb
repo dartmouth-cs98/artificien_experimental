{
 "metadata": {
  "language_info": {
   "codemirror_mode": {
    "name": "ipython",
    "version": 3
   },
   "file_extension": ".py",
   "mimetype": "text/x-python",
   "name": "python",
   "nbconvert_exporter": "python",
   "pygments_lexer": "ipython3",
   "version": "3.8.3-final"
  },
  "orig_nbformat": 2,
  "kernelspec": {
   "name": "python3",
   "display_name": "Python 3"
  }
 },
 "nbformat": 4,
 "nbformat_minor": 2,
 "cells": [
  {
   "cell_type": "code",
   "execution_count": 1,
   "metadata": {},
   "outputs": [
    {
     "output_type": "execute_result",
     "data": {
      "text/plain": [
       "[['age', 'sex', 'net worth', 'heartrate'],\n",
       " [52, 1, 88088, 78],\n",
       " [10, 1, 90769, 52],\n",
       " [40, 0, 63610, 78],\n",
       " [45, 0, 70851, 44],\n",
       " [55, 1, 14973, 48]]"
      ]
     },
     "metadata": {},
     "execution_count": 1
    }
   ],
   "source": [
    "import random\n",
    "# inputs: columns, discrete/continuous, ranges for each column, number of rows\n",
    "def fakedata(columns, range, num_rows):\n",
    "    \n",
    "    # input validation\n",
    "    if not (len(columns) == len(range)):\n",
    "        return (\"incorrect lengths of columns in one of the first three inputs\")\n",
    "    elif (num_rows <= 0):\n",
    "        return (\"incorrect number of rows\")\n",
    "    \n",
    "    output_data = [columns]\n",
    "\n",
    "    col_iterator = 0\n",
    "    row_of_data = 1 # topline is the headers\n",
    "    # write an array where each item is a row of fake data\n",
    "    while row_of_data <= num_rows:\n",
    "        output_data.append([])\n",
    "        while col_iterator < len(columns):\n",
    "            output_data[row_of_data].append(random.randint(range[col_iterator][0], range[col_iterator][1]))\n",
    "            col_iterator += 1\n",
    "        \n",
    "        col_iterator = 0\n",
    "        row_of_data += 1\n",
    "        \n",
    "    return output_data\n",
    "\n",
    "\n",
    "fakedata(['age', 'sex', 'net worth', 'heartrate'], [[0, 55], [0, 1], [0, 100000], [40, 120]], 5)"
   ]
  },
  {
   "cell_type": "code",
   "execution_count": 33,
   "metadata": {},
   "outputs": [],
   "source": [
    "import csv\n",
    "def convert_to_csv(columns, schema, range, correlation, num_rows, file_name):\n",
    "    output = correlated_fake_data(columns, schema, range, correlation, num_rows)\n",
    "\n",
    "    with open(file_name, 'w', newline='') as csvfile:\n",
    "        spamwriter = csv.writer(csvfile, delimiter=',',\n",
    "                            quotechar='|', quoting=csv.QUOTE_MINIMAL)\n",
    "        \n",
    "        x = 0\n",
    "        while x < len(output):\n",
    "            spamwriter.writerow(output[x])\n",
    "            x += 1\n",
    "        \n",
    "\n",
    "convert_to_csv(['age', 'sex', 'blood_type', 'weight', 'height', 'bmi', 'step_count'], [\"int\", \"int\", \"int\", \"double\", \"double\", \"double\", \"int\"], [[10, 70], [0, 1], [0, 8], [30, 120], [1, 3], [15, 25], [2000, 20000]], [1, 2, 1, 1, 2, 1, 0], 5, 'correlated_1.csv')"
   ]
  },
  {
   "cell_type": "code",
   "execution_count": 34,
   "metadata": {},
   "outputs": [
    {
     "output_type": "error",
     "ename": "SyntaxError",
     "evalue": "closing parenthesis ']' does not match opening parenthesis '(' (<ipython-input-34-bd73c05a4257>, line 82)",
     "traceback": [
      "\u001b[0;36m  File \u001b[0;32m\"<ipython-input-34-bd73c05a4257>\"\u001b[0;36m, line \u001b[0;32m82\u001b[0m\n\u001b[0;31m    correlated_fake_data(['age', 'sex', 'blood_type', 'weight', 'height', 'bmi', 'step_count'], [\"int\", \"int\", \"int\", \"double\", \"double\", \"double\", \"int\"], [[10, 70], [0, 1], [0, 8], [30, 120], [1, 3], [15, 25], [2000, 20000]], [0, 1, 1, 0, 2, 2, 0]], 5)\u001b[0m\n\u001b[0m                                                                                                                                                                                                                                                         ^\u001b[0m\n\u001b[0;31mSyntaxError\u001b[0m\u001b[0;31m:\u001b[0m closing parenthesis ']' does not match opening parenthesis '('\n"
     ]
    }
   ],
   "source": [
    "import random\n",
    "# inputs: columns, discrete/continuous, ranges for each column, correlation, number of rows\n",
    "# this has every column besides the first column be a function of the first column\n",
    "# correlation: index of length n, 0 means no correlation with anything else, any non-zero int needs to have a pair (should be validated, will not be yet)\n",
    "# assume earlier index is the one the later one is based on... doesn't really matter\n",
    "def correlated_fake_data(columns, schema, range, correlation, num_rows):\n",
    "    \n",
    "    # input validation\n",
    "    if not (len(columns) == len(range)):\n",
    "        return (\"incorrect lengths of columns in one of the first three inputs\")\n",
    "    elif (num_rows <= 0):\n",
    "        return (\"incorrect number of rows\")\n",
    "\n",
    "    # this is a dictionary on that tracks the counts of each value in array\n",
    "    correlation_counter_dict = {}\n",
    "    validation_counter = 0\n",
    "    while validation_counter < len(correlation):\n",
    "        if correlation[validation_counter] in correlation_counter_dict.keys():\n",
    "            correlation_counter_dict[correlation[validation_counter]] += 1\n",
    "        else:\n",
    "            correlation_counter_dict[correlation[validation_counter]] = 1\n",
    "\n",
    "        validation_counter += 1\n",
    "    val_list = (list(correlation_counter_dict.values()))\n",
    "    key_list = (list(correlation_counter_dict.keys()))\n",
    "    for i in val_list:\n",
    "        if i < 2:\n",
    "            if key_list[val_list.index(i)] != 0:\n",
    "                return (\"error: need a corresponding value with this correlation value\")\n",
    "    \n",
    "\n",
    "\n",
    "    output_data = [columns]\n",
    "\n",
    "    col_iterator = 0\n",
    "    row_of_data = 1 # topline is the headers\n",
    "    # write an array where each item is a row of fake data\n",
    "\n",
    "    while row_of_data <= num_rows:\n",
    "\n",
    "        output_data.append([])\n",
    "\n",
    "        while (len(columns) > col_iterator):\n",
    "\n",
    "            # if this is a \"correlated column\", need to find other column and make it a function of another  \n",
    "            if (correlation[col_iterator] != 0):\n",
    "                \n",
    "                # this finds if this current column is later\n",
    "                temp = 0\n",
    "                while temp < col_iterator:\n",
    "\n",
    "                    # this means that this column is later\n",
    "                    if correlation[temp] == correlation[col_iterator]:\n",
    "                        output_data[row_of_data].append(output_data[row_of_data][temp] * 3 + random.random() * 5)\n",
    "                        temp = col_iterator + 2 # to cut out of the loop\n",
    "                        col_iterator += 1\n",
    "                    else: \n",
    "                        temp +=1\n",
    "                \n",
    "                # if this column index is earlier, make it random\n",
    "                if (schema[col_iterator] == \"int\"):\n",
    "                    output_data[row_of_data].append(random.randint(range[col_iterator][0], range[col_iterator][1]))\n",
    "                    col_iterator += 1\n",
    "                else:\n",
    "                    output_data[row_of_data].append(range[col_iterator][0] + random.random() * (range[col_iterator][1] - range[col_iterator][0]))\n",
    "                    col_iterator += 1\n",
    "\n",
    "            else: \n",
    "                # if an integer, fake data\n",
    "                if (schema[col_iterator] == \"int\"):\n",
    "                    output_data[row_of_data].append(random.randint(range[col_iterator][0], range[col_iterator][1]))\n",
    "                    col_iterator += 1\n",
    "                # if not an int, a double\n",
    "                else:\n",
    "                    output_data[row_of_data].append(range[col_iterator][0] + random.random() * (range[col_iterator][1] - range[col_iterator][0]))\n",
    "                    col_iterator += 1\n",
    "\n",
    "        col_iterator = 0\n",
    "        row_of_data += 1\n",
    "        \n",
    "    return output_data\n",
    "\n",
    "correlated_fake_data(['age', 'sex', 'blood_type', 'weight', 'height', 'bmi', 'step_count'], [\"int\", \"int\", \"int\", \"double\", \"double\", \"double\", \"int\"], [[10, 70], [0, 1], [0, 8], [30, 120], [1, 3], [15, 25], [2000, 20000]], [1, 2, 1, 1, 2, 1, 0], 5)"
   ]
  },
  {
   "cell_type": "code",
   "execution_count": null,
   "metadata": {},
   "outputs": [],
   "source": []
  }
 ]
}