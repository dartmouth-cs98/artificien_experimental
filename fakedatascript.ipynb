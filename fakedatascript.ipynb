{
 "metadata": {
  "language_info": {
   "codemirror_mode": {
    "name": "ipython",
    "version": 3
   },
   "file_extension": ".py",
   "mimetype": "text/x-python",
   "name": "python",
   "nbconvert_exporter": "python",
   "pygments_lexer": "ipython3",
   "version": "3.8.3-final"
  },
  "orig_nbformat": 2,
  "kernelspec": {
   "name": "python3",
   "display_name": "Python 3"
  }
 },
 "nbformat": 4,
 "nbformat_minor": 2,
 "cells": [
  {
   "cell_type": "code",
   "execution_count": 1,
   "metadata": {},
   "outputs": [
    {
     "output_type": "execute_result",
     "data": {
      "text/plain": [
       "[['age', 'sex', 'net worth', 'heartrate'],\n",
       " [1, 0, 27308, 57],\n",
       " [9, 0, 28827, 79],\n",
       " [20, 0, 90392, 77],\n",
       " [3, 0, 34215, 90],\n",
       " [14, 1, 93125, 97]]"
      ]
     },
     "metadata": {},
     "execution_count": 1
    }
   ],
   "source": [
    "import random\n",
    "# inputs: columns, discrete/continuous, ranges for each column, number of rows\n",
    "def fakedata(columns, range, num_rows):\n",
    "    \n",
    "    # input validation\n",
    "    if not (len(columns) == len(range)):\n",
    "        return (\"incorrect lengths of columns in one of the first three inputs\")\n",
    "    elif (num_rows <= 0):\n",
    "        return (\"incorrect number of rows\")\n",
    "    \n",
    "    output_data = [columns]\n",
    "\n",
    "    col_iterator = 0\n",
    "    row_of_data = 1 # topline is the headers\n",
    "    # write an array where each item is a row of fake data\n",
    "    while row_of_data <= num_rows:\n",
    "        output_data.append([])\n",
    "        while col_iterator < len(columns):\n",
    "            output_data[row_of_data].append(random.randint(range[col_iterator][0], range[col_iterator][1]))\n",
    "            col_iterator += 1\n",
    "        \n",
    "        col_iterator = 0\n",
    "        row_of_data += 1\n",
    "        \n",
    "    return output_data\n",
    "\n",
    "\n",
    "fakedata(['age', 'sex', 'net worth', 'heartrate'], [[0, 55], [0, 1], [0, 100000], [40, 120]], 5)"
   ]
  },
  {
   "cell_type": "code",
   "execution_count": 42,
   "metadata": {},
   "outputs": [],
   "source": [
    "import csv\n",
    "def convert_to_csv(columns, schema, range, num_rows, file_name):\n",
    "    output = correlated_fake_data(columns, schema, range, num_rows)\n",
    "\n",
    "    with open(file_name, 'w', newline='') as csvfile:\n",
    "        spamwriter = csv.writer(csvfile, delimiter=',',\n",
    "                            quotechar='|', quoting=csv.QUOTE_MINIMAL)\n",
    "        \n",
    "        x = 0\n",
    "        while x < len(output):\n",
    "            spamwriter.writerow(output[x])\n",
    "            x += 1\n",
    "        \n",
    "\n",
    "convert_to_csv(['age', 'sex', 'blood_type', 'weight', 'height', 'bmi', 'step_count'], [\"int\", \"int\", \"int\", \"double\", \"double\", \"double\", \"int\"], [[10, 70], [0, 1], [0, 8], [30, 120], [1, 3], [15, 25], [2000, 20000]], 500, 'correlated_1.csv')\n",
    "convert_to_csv(['age', 'sex', 'blood_type', 'weight', 'height', 'bmi', 'step_count'], [\"int\", \"int\", \"int\", \"double\", \"double\", \"double\", \"int\"], [[10, 70], [0, 1], [0, 8], [30, 120], [1, 3], [15, 25], [2000, 20000]], 750, 'correlated_2.csv')\n",
    "convert_to_csv(['age', 'sex', 'blood_type', 'weight', 'height', 'bmi', 'step_count'], [\"int\", \"int\", \"int\", \"double\", \"double\", \"double\", \"int\"], [[10, 70], [0, 1], [0, 8], [30, 120], [1, 3], [15, 25], [2000, 20000]], 2500, 'correlated_3.csv')"
   ]
  },
  {
   "cell_type": "code",
   "execution_count": 3,
   "metadata": {},
   "outputs": [
    {
     "output_type": "execute_result",
     "data": {
      "text/plain": [
       "[['age', 'sex', 'blood_type', 'weight', 'height', 'bmi', 'step_count'],\n",
       " [27, 1, 1, 80.06826424206021, 2.5667906360462993, 7.800682642420602, 7098],\n",
       " [37, 1, 4, 108.33338591338129, 1.4668738112144613, 8.083333859133813, 15317],\n",
       " [43, 0, 2, 46.55488219769498, 1.4588756254272572, 3.4655488219769497, 3564],\n",
       " [56, 0, 2, 97.92360163034903, 1.468198313502141, 3.9792360163034903, 7630],\n",
       " [32, 0, 4, 89.15299297941476, 2.2942279689139022, 9.891529929794148, 18648]]"
      ]
     },
     "metadata": {},
     "execution_count": 3
    }
   ],
   "source": [
    "import random\n",
    "# inputs: columns, discrete/continuous, ranges for each column, number of rows\n",
    "# this has every column besides the first column be a function of the first column\n",
    "def correlated_fake_data(columns, schema, range, num_rows):\n",
    "    \n",
    "    # input validation\n",
    "    if not (len(columns) == len(range)):\n",
    "        return (\"incorrect lengths of columns in one of the first three inputs\")\n",
    "    elif (num_rows <= 0):\n",
    "        return (\"incorrect number of rows\")\n",
    "    \n",
    "    output_data = [columns]\n",
    "\n",
    "    col_iterator = 0\n",
    "    row_of_data = 1 # topline is the headers\n",
    "    # write an array where each item is a row of fake data\n",
    "    while row_of_data <= num_rows:\n",
    "\n",
    "        output_data.append([])\n",
    "\n",
    "        while (len(columns) > col_iterator):\n",
    "\n",
    "            # if an integer, fake data\n",
    "            if (schema[col_iterator] == \"int\"):\n",
    "                output_data[row_of_data].append(random.randint(range[col_iterator][0], range[col_iterator][1]))\n",
    "                col_iterator += 1\n",
    "\n",
    "            # if not an int, a double\n",
    "            else:\n",
    "                if (columns[col_iterator] == \"bmi\"):\n",
    "                    output_data[row_of_data].append(output_data[row_of_data][col_iterator - 2] / 100 + random.randint(-1, 9))\n",
    "                else:\n",
    "                    output_data[row_of_data].append(range[col_iterator][0] + random.random() * (range[col_iterator][1] - range[col_iterator][0]))\n",
    "                col_iterator += 1\n",
    "        \n",
    "        col_iterator = 0\n",
    "        row_of_data += 1\n",
    "        \n",
    "    return output_data\n",
    "\n",
    "correlated_fake_data(['age', 'sex', 'blood_type', 'weight', 'height', 'bmi', 'step_count'], [\"int\", \"int\", \"int\", \"double\", \"double\", \"double\", \"int\"], [[10, 70], [0, 1], [0, 8], [30, 120], [1, 3], [15, 25], [2000, 20000]], 5)"
   ]
  },
  {
   "cell_type": "code",
   "execution_count": null,
   "metadata": {},
   "outputs": [],
   "source": []
  }
 ]
}