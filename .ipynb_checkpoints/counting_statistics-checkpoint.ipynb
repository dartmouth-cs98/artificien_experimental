{
 "cells": [
  {
   "cell_type": "code",
   "execution_count": 1,
   "metadata": {},
   "outputs": [],
   "source": [
    "import torch\n",
    "import copy\n",
    "import syft as sy\n",
    "from torch import nn\n",
    "from torch import optim\n",
    "hook = sy.TorchHook(torch)"
   ]
  },
  {
   "cell_type": "markdown",
   "metadata": {},
   "source": [
    "# 1. Make fake worker nodes"
   ]
  },
  {
   "cell_type": "code",
   "execution_count": 2,
   "metadata": {},
   "outputs": [],
   "source": [
    "alex = sy.VirtualWorker(hook, id='alex')\n",
    "toby = sy.VirtualWorker(hook, id='toby')\n",
    "jake = sy.VirtualWorker(hook, id='jake')\n",
    "matt = sy.VirtualWorker(hook, id='matt')\n",
    "shreyas = sy.VirtualWorker(hook, id='shreyas')\n",
    "\n",
    "# secure worker node built as well\n",
    "secure_machine = sy.VirtualWorker(hook, id='secure_machine')\n"
   ]
  },
  {
   "cell_type": "markdown",
   "metadata": {},
   "source": [
    "# 2. Make Fake data to send to each of them\n",
    "### Schema; [age, sex, blood_type, weight, height, BMI]\n",
    "    * Age: Integer\n",
    "    * Sex: F = 0, M = 1\n",
    "    * Blood Type: Should be one-hot encoded\n",
    "    * Weight: Integer\n",
    "    * Height: Inches (take ft*12 + in)\n",
    "    * BMI: Float (assume the app calculates it!)"
   ]
  },
  {
   "cell_type": "code",
   "execution_count": 3,
   "metadata": {},
   "outputs": [],
   "source": [
    "alex_tensor = torch.tensor([21, 1, 3, 165, 71, 23]).tag(\"#test\")\n",
    "toby_tensor = torch.tensor([19, 0, 1, 175, 73, 23.1]).tag(\"#test\")\n",
    "jake_tensor = torch.tensor([23, 1, 4, 123, 69, 18.2]).tag(\"#test\")\n",
    "matt_tensor = torch.tensor([28, 0, 7, 137, 82, 14.3]).tag(\"#test\")\n",
    "shreyas_tensor = torch.tensor([16, 1, 2, 167, 76, 20.3]).tag(\"#test\")"
   ]
  },
  {
   "cell_type": "code",
   "execution_count": 4,
   "metadata": {},
   "outputs": [],
   "source": [
    "# Send the tensor to the right worker node\n",
    "alex_tensor = alex_tensor.send(alex)\n",
    "toby_tensor = toby_tensor.send(toby)\n",
    "jake_tensor = jake_tensor.send(jake)\n",
    "matt_tensor = matt_tensor.send(matt)\n",
    "shreyas_tensor = shreyas_tensor.send(shreyas)"
   ]
  },
  {
   "cell_type": "markdown",
   "metadata": {},
   "source": [
    "### Way 1: Iterate Through Worker Array (not as scalable)"
   ]
  },
  {
   "cell_type": "code",
   "execution_count": 5,
   "metadata": {},
   "outputs": [
    {
     "data": {
      "text/plain": [
       "[21.4, 0.6000000000000001, 3.4, 153.4, 74.19999999999999, 19.78000011444092]"
      ]
     },
     "execution_count": 5,
     "metadata": {},
     "output_type": "execute_result"
    }
   ],
   "source": [
    "workers = [alex, toby, jake, matt, shreyas]\n",
    "\n",
    "def calculate_means(workers):\n",
    "    \n",
    "    object1 = list(workers[0]._objects.values())\n",
    "    mean = [0] * len(object1[0])\n",
    "    \n",
    "    for x in range(len(workers)):\n",
    "        \n",
    "        tensor = list(workers[x]._objects.values())\n",
    "        \n",
    "        for y in range(len(tensor[0])):\n",
    "            mean[y] += (tensor[0][y].item() / len(workers))\n",
    "            \n",
    "    return mean\n",
    "\n",
    "calculate_means(workers)"
   ]
  },
  {
   "cell_type": "markdown",
   "metadata": {},
   "source": [
    "### Way 2: Iterate Through Workers (scalable!)"
   ]
  },
  {
   "cell_type": "code",
   "execution_count": 6,
   "metadata": {},
   "outputs": [
    {
     "data": {
      "text/plain": [
       "[21.4, 0.6000000000000001, 3.4, 153.4, 74.19999999999999, 19.78000011444092]"
      ]
     },
     "execution_count": 6,
     "metadata": {},
     "output_type": "execute_result"
    }
   ],
   "source": [
    "workers = [alex, toby, jake, matt, shreyas]\n",
    "grid = sy.PrivateGridNetwork(*workers)\n",
    "\n",
    "def calculate_means_with_grid(grid, tag):\n",
    "    test_data = grid.search(tag)\n",
    "    intermediate = list(test_data.values())\n",
    "    \n",
    "    mean = [0] * len(intermediate[0][0]) # set length of the averages you want to calculate\n",
    "    \n",
    "    for x in range(len(intermediate)):\n",
    "        placeholder = intermediate[x][0].get()\n",
    "        for y in range(len(placeholder)):\n",
    "            val = placeholder[y].item()\n",
    "            mean[y] += val / len(test_data)\n",
    "\n",
    "    return mean\n",
    "calculate_means_with_grid(grid, \"#test\")"
   ]
  },
  {
   "cell_type": "markdown",
   "metadata": {},
   "source": [
    "### Different Step: Max & Min of each row"
   ]
  },
  {
   "cell_type": "code",
   "execution_count": 7,
   "metadata": {},
   "outputs": [],
   "source": [
    "# Preprocessing of making tensors, sending, making a grid\n",
    "\n",
    "# initiate tensors\n",
    "alex_tensor = torch.tensor([21, 1, 3, 165, 71, 23]).tag(\"#test2\")\n",
    "toby_tensor = torch.tensor([19, 0, 1, 175, 73, 23.1]).tag(\"#test2\")\n",
    "jake_tensor = torch.tensor([23, 1, 4, 123, 69, 18.2]).tag(\"#test2\")\n",
    "matt_tensor = torch.tensor([28, 0, 7, 137, 82, 14.3]).tag(\"#test2\")\n",
    "shreyas_tensor = torch.tensor([16, 1, 2, 167, 76, 20.3]).tag(\"#test2\")\n",
    "\n",
    "# Send the tensor to the right worker node\n",
    "alex_tensor = alex_tensor.send(alex)\n",
    "toby_tensor = toby_tensor.send(toby)\n",
    "jake_tensor = jake_tensor.send(jake)\n",
    "matt_tensor = matt_tensor.send(matt)\n",
    "shreyas_tensor = shreyas_tensor.send(shreyas)\n",
    "\n",
    "workers = [alex, toby, jake, matt, shreyas]\n",
    "grid = sy.PrivateGridNetwork(*workers)"
   ]
  },
  {
   "cell_type": "code",
   "execution_count": 8,
   "metadata": {},
   "outputs": [
    {
     "name": "stdout",
     "output_type": "stream",
     "text": [
      "this is the list of maximum values per column:[28.0, 1, 7.0, 175.0, 82.0, 23.100000381469727]\n",
      "this is the list of minimum values per column:[16.0, 0.0, 1.0, 123.0, 69.0, 14.300000190734863]\n"
     ]
    }
   ],
   "source": [
    "def calculate_max_min_with_grid(grid, tag):\n",
    "    \n",
    "    test_data = grid.search(tag)\n",
    "    intermediate = list(test_data.values())\n",
    "    \n",
    "    # instantiate a list of values to be filled\n",
    "    max_list = [0] * len(intermediate[0][0]) \n",
    "    min_list = [1000000] * len(intermediate[0][0])\n",
    "    \n",
    "    for x in range(len(intermediate)):\n",
    "        \n",
    "        # this pulls the tensor\n",
    "        placeholder = intermediate[x][0].get()\n",
    "        for y in range(len(placeholder)):\n",
    "            \n",
    "            # gets the specific column value of the tensor\n",
    "            val = placeholder[y].item()\n",
    "            \n",
    "            # update max or min\n",
    "            if (val > max_list[y]):\n",
    "                max_list[y] = val\n",
    "            if (val < min_list[y]):\n",
    "                min_list[y] = val\n",
    "\n",
    "    return max_list, min_list\n",
    "\n",
    "list_of_maxes, list_of_mins = calculate_max_min_with_grid(grid, \"#test2\")\n",
    "print (\"this is the list of maximum values per column:\" + str(list_of_maxes))\n",
    "print (\"this is the list of minimum values per column:\" + str(list_of_mins))"
   ]
  }
 ],
 "metadata": {
  "kernelspec": {
   "display_name": "pysyft",
   "language": "python",
   "name": "pysyft"
  },
  "language_info": {
   "codemirror_mode": {
    "name": "ipython",
    "version": 3
   },
   "file_extension": ".py",
   "mimetype": "text/x-python",
   "name": "python",
   "nbconvert_exporter": "python",
   "pygments_lexer": "ipython3",
   "version": "3.7.9"
  }
 },
 "nbformat": 4,
 "nbformat_minor": 4
}
