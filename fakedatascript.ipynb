{
 "metadata": {
  "language_info": {
   "codemirror_mode": {
    "name": "ipython",
    "version": 3
   },
   "file_extension": ".py",
   "mimetype": "text/x-python",
   "name": "python",
   "nbconvert_exporter": "python",
   "pygments_lexer": "ipython3",
   "version": "3.8.3-final"
  },
  "orig_nbformat": 2,
  "kernelspec": {
   "name": "python3",
   "display_name": "Python 3"
  }
 },
 "nbformat": 4,
 "nbformat_minor": 2,
 "cells": [
  {
   "cell_type": "code",
   "execution_count": 30,
   "metadata": {},
   "outputs": [
    {
     "output_type": "execute_result",
     "data": {
      "text/plain": [
       "[['age', 'sex', 'net worth', 'heartrate'],\n",
       " [12, 0, 23294, 89],\n",
       " [52, 0, 96576, 98],\n",
       " [42, 0, 39190, 68],\n",
       " [15, 1, 68777, 95],\n",
       " [37, 0, 67821, 72]]"
      ]
     },
     "metadata": {},
     "execution_count": 30
    }
   ],
   "source": [
    "import random\n",
    "# inputs: columns, discrete/continuous, ranges for each column, number of rows\n",
    "def fakedata(columns, range, num_rows):\n",
    "    \n",
    "    # input validation\n",
    "    if not (len(columns) == len(range)):\n",
    "        return (\"incorrect lengths of columns in one of the first three inputs\")\n",
    "    elif (num_rows <= 0):\n",
    "        return (\"incorrect number of rows\")\n",
    "    \n",
    "    output_data = [columns]\n",
    "\n",
    "    col_iterator = 0\n",
    "    row_of_data = 1 # topline is the headers\n",
    "    # write an array where each item is a row of fake data\n",
    "    while row_of_data <= num_rows:\n",
    "        output_data.append([])\n",
    "        while col_iterator < len(columns):\n",
    "            output_data[row_of_data].append(random.randint(range[col_iterator][0], range[col_iterator][1]))\n",
    "            col_iterator += 1\n",
    "        \n",
    "        col_iterator = 0\n",
    "        row_of_data += 1\n",
    "        \n",
    "    return output_data\n",
    "\n",
    "\n",
    "fakedata(['age', 'sex', 'net worth', 'heartrate'], [[0, 55], [0, 1], [0, 100000], [40, 120]], 5)"
   ]
  },
  {
   "cell_type": "code",
   "execution_count": 42,
   "metadata": {},
   "outputs": [],
   "source": [
    "import csv\n",
    "def convert_to_csv(columns, schema, range, num_rows, file_name):\n",
    "    output = correlated_fake_data(columns, schema, range, num_rows)\n",
    "\n",
    "    with open(file_name, 'w', newline='') as csvfile:\n",
    "        spamwriter = csv.writer(csvfile, delimiter=',',\n",
    "                            quotechar='|', quoting=csv.QUOTE_MINIMAL)\n",
    "        \n",
    "        x = 0\n",
    "        while x < len(output):\n",
    "            spamwriter.writerow(output[x])\n",
    "            x += 1\n",
    "        \n",
    "\n",
    "convert_to_csv(['age', 'sex', 'blood_type', 'weight', 'height', 'bmi', 'step_count'], [\"int\", \"int\", \"int\", \"double\", \"double\", \"double\", \"int\"], [[10, 70], [0, 1], [0, 8], [30, 120], [1, 3], [15, 25], [2000, 20000]], 500, 'correlated_1.csv')\n",
    "convert_to_csv(['age', 'sex', 'blood_type', 'weight', 'height', 'bmi', 'step_count'], [\"int\", \"int\", \"int\", \"double\", \"double\", \"double\", \"int\"], [[10, 70], [0, 1], [0, 8], [30, 120], [1, 3], [15, 25], [2000, 20000]], 750, 'correlated_2.csv')\n",
    "convert_to_csv(['age', 'sex', 'blood_type', 'weight', 'height', 'bmi', 'step_count'], [\"int\", \"int\", \"int\", \"double\", \"double\", \"double\", \"int\"], [[10, 70], [0, 1], [0, 8], [30, 120], [1, 3], [15, 25], [2000, 20000]], 2500, 'correlated_3.csv')"
   ]
  },
  {
   "cell_type": "code",
   "execution_count": 39,
   "metadata": {},
   "outputs": [
    {
     "output_type": "execute_result",
     "data": {
      "text/plain": [
       "[['age', 'sex', 'blood_type', 'weight', 'height', 'bmi', 'step_count'],\n",
       " [33, 1, 3, 31.69475308661092, 1.2097808485838404, 10.31694753086611, 5973],\n",
       " [15, 1, 8, 91.4797600513835, 2.900903456807537, 3.914797600513835, 17866],\n",
       " [42, 1, 2, 80.6613752972662, 1.6638707827869053, 6.8066137529726625, 3610],\n",
       " [62, 1, 2, 55.578003661539626, 1.0819768288601495, 16.555780036615396, 7603],\n",
       " [60, 1, 7, 96.78270060144557, 2.948618931397146, 18.967827006014456, 2782]]"
      ]
     },
     "metadata": {},
     "execution_count": 39
    }
   ],
   "source": [
    "import random\n",
    "# inputs: columns, discrete/continuous, ranges for each column, number of rows\n",
    "# this has every column besides the first column be a function of the first column\n",
    "def correlated_fake_data(columns, schema, range, num_rows):\n",
    "    \n",
    "    # input validation\n",
    "    if not (len(columns) == len(range)):\n",
    "        return (\"incorrect lengths of columns in one of the first three inputs\")\n",
    "    elif (num_rows <= 0):\n",
    "        return (\"incorrect number of rows\")\n",
    "    \n",
    "    output_data = [columns]\n",
    "\n",
    "    col_iterator = 0\n",
    "    row_of_data = 1 # topline is the headers\n",
    "    # write an array where each item is a row of fake data\n",
    "    while row_of_data <= num_rows:\n",
    "\n",
    "        output_data.append([])\n",
    "\n",
    "        while (len(columns) > col_iterator):\n",
    "\n",
    "            # if an integer, fake data\n",
    "            if (schema[col_iterator] == \"int\"):\n",
    "                output_data[row_of_data].append(random.randint(range[col_iterator][0], range[col_iterator][1]))\n",
    "                col_iterator += 1\n",
    "\n",
    "            # if not an int, a double\n",
    "            else:\n",
    "                if (columns[col_iterator] == \"bmi\"):\n",
    "                    output_data[row_of_data].append(output_data[row_of_data][col_iterator - 2] / 100 + random.randint(3, 18))\n",
    "                else:\n",
    "                    output_data[row_of_data].append(range[col_iterator][0] + random.random() * (range[col_iterator][1] - range[col_iterator][0]))\n",
    "                col_iterator += 1\n",
    "        \n",
    "        col_iterator = 0\n",
    "        row_of_data += 1\n",
    "        \n",
    "    return output_data\n",
    "\n",
    "correlated_fake_data(['age', 'sex', 'blood_type', 'weight', 'height', 'bmi', 'step_count'], [\"int\", \"int\", \"int\", \"double\", \"double\", \"double\", \"int\"], [[10, 70], [0, 1], [0, 8], [30, 120], [1, 3], [15, 25], [2000, 20000]], 5)"
   ]
  },
  {
   "cell_type": "code",
   "execution_count": null,
   "metadata": {},
   "outputs": [],
   "source": []
  }
 ]
}